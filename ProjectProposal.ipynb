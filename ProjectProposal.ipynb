{
 "cells": [
  {
   "cell_type": "markdown",
   "metadata": {},
   "source": [
    "# COGS 108 - Project Proposal"
   ]
  },
  {
   "cell_type": "markdown",
   "metadata": {},
   "source": [
    "## Important\n",
    "\n",
    "- Make sure all group members (3-6 people) are listed in the group members section.\n",
    "- ONE, and only one, member of your group should upload this notebook to TritonED. \n",
    "- Each member of the group will receive the same grade on this assignment. \n",
    "- Keep the file name the same: submit the file 'ProjectProposal.ipynb'"
   ]
  },
  {
   "cell_type": "markdown",
   "metadata": {},
   "source": [
    "## Overview"
   ]
  },
  {
   "cell_type": "markdown",
   "metadata": {},
   "source": [
    "Read the project description and detailed instructions for this assignment in the 'ProjectOutline' document."
   ]
  },
  {
   "cell_type": "markdown",
   "metadata": {},
   "source": [
    "## Group Members: Fill in the Student IDs of each group member here\n",
    "\n",
    "Replace the lines below to list each persons full student ID. Add lines as needed for your group size, and make sure each ID is listed on a separate line. \n",
    "\n",
    "**Yuanhao Zhu** A13626824\n",
    "\n",
    "**Jinwei Ren** A92061199\n",
    "\n",
    "**Yijie Fan** A13485989\n",
    "\n",
    "**Bolin Yang** A92111272\n",
    "\n",
    "**Mu He** A13361247\n",
    "\n",
    "**Xuan Zhang** A14173638"
   ]
  },
  {
   "cell_type": "markdown",
   "metadata": {},
   "source": [
    "### Research Question\n",
    "\n",
    "What is your research question? (1-2 sentences)"
   ]
  },
  {
   "cell_type": "markdown",
   "metadata": {},
   "source": [
    "What are the major factors that will influence the house price(dollar per sq ft)? And which factors have major impacts on the house price? "
   ]
  },
  {
   "cell_type": "markdown",
   "metadata": {},
   "source": [
    "### Hypothesis\n",
    "\n",
    "What is your main hypothesis and predictions? (2-3 sentences)"
   ]
  },
  {
   "cell_type": "markdown",
   "metadata": {},
   "source": [
    "The housing style, overall quality will have the most impact on the house price. We predict that different housing style might attract different buyers and affect their willingness to pay. Moreover, the better overall quality is, the higher the housing price is."
   ]
  },
  {
   "cell_type": "markdown",
   "metadata": {},
   "source": [
    "### Dataset(s)\n",
    "\n",
    "What data will you use to answer your question? Describe the dataset(s) in terms of number of observations, what kind of features it contains, etc. You must use at least one dataset containing at least approximately 1000 observations (if your data are smaller but you feel they are sufficient, email Prof. Voytek). You are welcome (and in fact recommended) to find multiple datasets! If you do so, describe each one, and briefly explain how you will combine them together. "
   ]
  },
  {
   "cell_type": "markdown",
   "metadata": {},
   "source": [
    "*Fill in your dataset information here*\n",
    "\n",
    "(Copy this information for each dataset)\n",
    "- Dataset Name: House Prices: Advanced Regression Techniques\n",
    "- Link to the dataset: https://www.kaggle.com/c/house-prices-advanced-regression-techniques/data\n",
    "- Number of observations: 2919\n",
    "\n",
    "1-2 sentences describing the dataset.   \n",
    "This dataset proves that there are many influential factors towards the final price of each home. With 79 explanatory variables and 2919 instances describing (almost) every aspect of residential homes in Ames, Iowa, we will derive some major factors influence the housing price.\n",
    "\n",
    "If you plan to use multiple datasets, add 1-2 sentences about how you plan to combine these datasets."
   ]
  },
  {
   "cell_type": "markdown",
   "metadata": {},
   "source": [
    "### Background and Prior Work\n",
    "\n",
    "Why is this question of interest, what background information led you to your hypothesis, and why is this important?\n",
    "\n",
    "Find some relevant prior work, and reference those sources. Even if you think you have a totally novel question, find the most similar prior work that you can and discuss how it relates to your project. \n",
    "\n",
    "References can be research publications, but they need not be. Blogs, github repositories, company websites, etc., are all viable references if they are relevant to your project.\n",
    "\n",
    "(2-3 paragraphs, including at least 2 references)"
   ]
  },
  {
   "cell_type": "markdown",
   "metadata": {},
   "source": [
    "*Fill in your background and prior work here* \n",
    "\n",
    "Housing is a major part of modern human life. The housing price is an important property that people will consider when they purchase or rent houses or apartments. Here we explore the potential factors that will influence the housing price and our result could help people understand the composition of the housing price, and provide people a better vision on the housing price for a better choice. \n",
    "\n",
    "The 8 Biggest Factors that Affect Real Estate Prices talked about macro-factors and micro-factors that can influence the real estate prices. Here we focus on the micro-factors: property locations (proximity and quality of local schools, companies, and shopping centers etc. ), updates and upgrades (such as how upgraded the home electronics and indoor decorations are), Inspection report, neighborhood comparable properties (the recent nearby transaction of properties can influence the price of your properties), and the appraisal price. \n",
    "\n",
    "In addition to the factors listed above, the website called Homeguru also offers some factors could influence the housing price: supply and demands of housing, potential room numbers, parking, and local demographics.  From the reference above, we have a basic idea of factors could affect the housing prices, then we relate to our data frame, do our own analysis. Finally, we can look at the factors we figured out from our data, and compare to the factors listed above. \n",
    "\n",
    "\n",
    "References (include links):\n",
    "- 1) https://resources.point.com/8-biggest-factors-affect-real-estate-prices/\n",
    "- 2) https://www.homeguru.com.au/house-prices"
   ]
  },
  {
   "cell_type": "markdown",
   "metadata": {},
   "source": [
    "### Proposed Methods\n",
    "\n",
    "What methods will you use to analyze your data?\n",
    "\n",
    "- How 'clean' is the data? To the extent that it requires cleaning, how will you do so?\n",
    "- How will you analyze the data? Be as specific as you can. Briefly mention any pre-processing steps that are required for your methods (for example, checking data distributions and performing any transformations that may be required). Include a brief outline of how you will apply your chosen method(s). \n",
    "- What do you plan to report? Briefly mention any key visualizations you plan to create, and/or the kind of results you will be able to report that address your question (this could be, for example, the outcome of some statistical test(s), prediction error on a model, a model fit parameter, etc.).\n",
    "- Include a list of packages you expect to use for you project. If you plan to use packages we have not used in class, add a very brief description about them (a few words is sufficient). "
   ]
  },
  {
   "cell_type": "markdown",
   "metadata": {},
   "source": [
    "*Fill in your proposed methods information here:*\n",
    "\n",
    "*Data Cleaning (2-3 sentences)*  \n",
    "We will use numpy, and pandas library to anonymize data comply with the Safe Harbor method. We will also pre-process the data to calculate the price per area based on sales price and area. We will also get rid of the data with null or invalid value from the dataset.\n",
    "\n",
    "\n",
    "*Data Analysis (1-2 paragraphs)*  \n",
    "We will first do a linear regression to see if there is a significant relationship between housing quality and housing prices. We will use the OLS analysis to fit the linear line that minimizes loss function. We will plot the linear regression model to visualize the strong correlation between housing quality and housing prices. Now we want to know which quality predicts the highest housing prices. The median is a good representation of the general situation here.  \n",
    "\n",
    "Then we will do a multivariate classification to see which housing style predicts the highest housing price. We will use multivariate gaussian to classify certain housing price range and correlated housing style. We will plot the contour to visualize the correlation between housing style and housing prices. Now we want to know which housing style predicts the highest housing prices. The contour is a good representation of the general situation here.\n",
    "\n",
    "\n",
    "*What to report (2-3 sentences)*  \n",
    "To present a clear relationship between house style, quality, and housing price, we prepared to deliver a data visualization through linear regression. We will fit a linear line to show a positive correlation between some major factors and housing prices.\n",
    "\n",
    "\n",
    "Packages we plan to use:\n",
    "- a. numpy, pandas, scipy.stats, etc. for data cleaning.\n",
    "- b. matplotlib.pyplot, etc. for data visualization.\n",
    "- c. scipy.stats, etc for statistics.\t\n"
   ]
  },
  {
   "cell_type": "markdown",
   "metadata": {},
   "source": [
    "### Ethics and Privacy\n",
    "\n",
    "Briefly acknowledge and address any potential issues of ethics and privacy for the proposed project. In particular:\n",
    "- Do you have permission to use this data, for this purpose?\n",
    "- Are there privacy concerns regarding your datasets that you need to deal with, and/or terms of use that you need to comply with?\n",
    "- Are there potential biases in your dataset(s), in terms of who it composes, and how it was collected, that may be problematic in terms of it allowing for equitable analysis? (For example, does your data exclude particular populations, or is it likely to reflect particular human biases in a way that could be a problem?) \n",
    "- Are there any other issues related to your topic area, data, and/or analyses that are potentially problematic in terms of data privacy and equitable impact?\n",
    "- How will you handle any issues you identify?\n",
    "\n",
    "(1-2 paragraphs)\n",
    "\n",
    "The database we use is allowed for public access. It is a dataset in the famous Google data competition “Kaggle” named “House Prices: Advanced Regression Techniques” that is available for everyone (https://www.kaggle.com/c/house-prices-advanced-regression-techniques/data). The dataset contains 2 CSV files, ‘train.csv’ and ‘test.csv’. They contain all data fields such as house style, neighborhood, and corresponding house prices. \n",
    "\n",
    "Although the database we use is completely public, we still have our privacy concerns regarding our datasets. For example, the neighborhood reveals geographic subdivisions smaller than a state. Certainly, we don’t want to reveal information that might disturb the privacy of the owner. So after careful consideration, we have decided to comply with the Safe Harbor Method and anonymized our data. Besides this,  the dataset is pretty neutral without potential biases, and not a certain population are excluded.  Since most of the features in the dataset are tightly related to the house itself (such as house style, roof style, year built), more issues related to data privacy and ethics are unlikely to show up.\n"
   ]
  },
  {
   "cell_type": "markdown",
   "metadata": {},
   "source": [
    "### Discussion\n",
    "\n",
    "Discuss your project, looking forward to what your results might mean, how they fit it in with what is already known, and what problems you may encounter. \n",
    "\n",
    "In particular:\n",
    "- If your analyses and hypotheses are correct, what will be the contribution of this project to the topic domain? \n",
    "- Alternatively, what will you do if you methods don't work and/or your hypotheses are wrong? \n",
    "- What are the potential pitfalls and potential confounds of your data and/or methods that may cause problems, and/or influence your interpretations?\n",
    "\n",
    "(2-3 paragraphs)"
   ]
  },
  {
   "cell_type": "markdown",
   "metadata": {},
   "source": [
    "*Fill in your discussion information here*  \n",
    "After a close inspection of our project, we conclude that our major analyses and hypotheses are correct, i.e., different house style affect people’s willingness to pay and the higher the overall quality, the higher the housing price is. The major contribution of this project is our model will show users several factors they will need to consider before they look for a house. \n",
    "On the other hand, there are possibly still many more factors that could affect the housing price, but we are not able to consider them all. Besides, there are potential pitfalls of our data: first, the dataset only contains 2919 variables. As a result, we don’t have enough instances of house for our analysis. Second, the dataset doesn’t scale outside the city of Ames, Iowa. As a result, we restrict our analysis and may subject to bias. In conclusion, although the dataset provide buyer some insight about the housing price, it is still far from enough to find a full-fledged housing formula for house buyers.\n"
   ]
  }
 ],
 "metadata": {
  "kernelspec": {
   "display_name": "Python 3",
   "language": "python",
   "name": "python3"
  },
  "language_info": {
   "codemirror_mode": {
    "name": "ipython",
    "version": 3
   },
   "file_extension": ".py",
   "mimetype": "text/x-python",
   "name": "python",
   "nbconvert_exporter": "python",
   "pygments_lexer": "ipython3",
   "version": "3.6.3"
  }
 },
 "nbformat": 4,
 "nbformat_minor": 2
}
